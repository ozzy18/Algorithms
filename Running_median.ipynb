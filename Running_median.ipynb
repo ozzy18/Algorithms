{
 "cells": [
  {
   "cell_type": "code",
   "execution_count": 63,
   "metadata": {
    "collapsed": true
   },
   "outputs": [],
   "source": [
    "import sys\n",
    "import heapq\n",
    "\n",
    "\n",
    "def running_median(value,median,min_heapq,max_heapq):\n",
    "    #print(median,min_heapq,max_heapq)\n",
    "    if median<=value:\n",
    "        if len(max_heapq)<len(min_heapq):\n",
    "            heapq.heappush(max_heapq,value)\n",
    "            median=median\n",
    "            result=float(median)\n",
    "        elif len(max_heapq)==len(min_heapq):\n",
    "            heapq.heappush(max_heapq,value)\n",
    "            median=median\n",
    "            result=float(median)\n",
    "        else:\n",
    "            heapq.heappush(min_heapq,-1*median)\n",
    "            median=heapq.heappushpop(max_heapq,value)\n",
    "            result=float(median)\n",
    "    \n",
    "    else:\n",
    "        if len(max_heapq)>len(min_heapq):\n",
    "            heapq.heappush(min_heapq,-1*value)\n",
    "            median=median\n",
    "            result=float(median)\n",
    "        elif len(max_heapq)==len(min_heapq):\n",
    "            heapq.heappush(min_heapq,-1*value)\n",
    "            median=median\n",
    "            result=float(-min_heapq[0])\n",
    "        else:\n",
    "            heapq.heappush(max_heapq,median)\n",
    "            median=-1*heapq.heappushpop(min_heapq,-1*value)\n",
    "            result=float(median)\n",
    "    #print(median,min_heapq,max_heapq)\n",
    "    #print(\"----\")\n",
    "    return median,min_heapq,max_heapq,result"
   ]
  },
  {
   "cell_type": "code",
   "execution_count": 64,
   "metadata": {
    "collapsed": true
   },
   "outputs": [],
   "source": [
    "min_heapq=[]\n",
    "max_heapq=[]\n",
    "heapq.heapify(min_heapq)\n",
    "heapq.heapify(max_heapq)\n",
    "median_list=[]\n",
    "items=[]\n"
   ]
  },
  {
   "cell_type": "code",
   "execution_count": 65,
   "metadata": {
    "collapsed": false
   },
   "outputs": [],
   "source": [
    "flag=False\n",
    "with open(\"Median.txt\") as infile:\n",
    "    for line in infile:\n",
    "        value = int(line.strip())\n",
    "        items.append(value)\n",
    "        if flag:\n",
    "            median,min_heapq,max_heapq,result=running_median(value,median,min_heapq,max_heapq)\n",
    "            median_list.append(result)\n",
    "        else:\n",
    "            median_list.append(value)\n",
    "            median=value\n",
    "            flag=True\n",
    "        "
   ]
  },
  {
   "cell_type": "code",
   "execution_count": 66,
   "metadata": {
    "collapsed": false
   },
   "outputs": [
    {
     "name": "stdout",
     "output_type": "stream",
     "text": [
      "[6331, 2793.0, 2793.0, 2793.0, 2793.0, 1640.0, 2793.0, 2303.0, 2793.0, 2303.0]\n",
      "10000\n"
     ]
    }
   ],
   "source": [
    "print(median_list[:10])\n",
    "print(len(median_list))"
   ]
  },
  {
   "cell_type": "code",
   "execution_count": 67,
   "metadata": {
    "collapsed": false
   },
   "outputs": [
    {
     "name": "stdout",
     "output_type": "stream",
     "text": [
      "46831213.0\n"
     ]
    }
   ],
   "source": [
    "result=(sum(median_list))\n",
    "print(result)"
   ]
  },
  {
   "cell_type": "code",
   "execution_count": 68,
   "metadata": {
    "collapsed": false
   },
   "outputs": [
    {
     "name": "stdout",
     "output_type": "stream",
     "text": [
      "1213.0\n"
     ]
    }
   ],
   "source": [
    "print(result%10000)"
   ]
  },
  {
   "cell_type": "code",
   "execution_count": null,
   "metadata": {
    "collapsed": true
   },
   "outputs": [],
   "source": []
  }
 ],
 "metadata": {
  "kernelspec": {
   "display_name": "Python 3",
   "language": "python",
   "name": "python3"
  },
  "language_info": {
   "codemirror_mode": {
    "name": "ipython",
    "version": 3
   },
   "file_extension": ".py",
   "mimetype": "text/x-python",
   "name": "python",
   "nbconvert_exporter": "python",
   "pygments_lexer": "ipython3",
   "version": "3.6.0"
  }
 },
 "nbformat": 4,
 "nbformat_minor": 2
}
