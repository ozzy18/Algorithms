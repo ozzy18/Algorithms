{
 "cells": [
  {
   "cell_type": "code",
   "execution_count": 30,
   "metadata": {
    "collapsed": false
   },
   "outputs": [],
   "source": [
    "import heapq\n",
    "from collections import defaultdict"
   ]
  },
  {
   "cell_type": "code",
   "execution_count": 31,
   "metadata": {
    "collapsed": true
   },
   "outputs": [],
   "source": [
    "class my_Graph():\n",
    "    \n",
    "    def __init__(self):\n",
    "        self.graph=defaultdict(list)\n",
    "    def add_edge(self,source,destination,length):\n",
    "        self.graph[source].append((destination,float(length)))\n",
    "    def remove_edge(self,source,destination,length):\n",
    "        self.graph[source].remove((destination,length))\n",
    "        "
   ]
  },
  {
   "cell_type": "code",
   "execution_count": 163,
   "metadata": {
    "collapsed": true
   },
   "outputs": [],
   "source": [
    "def bubble_down(heap,index):\n",
    "    \n",
    "    temp_index=index\n",
    "    while len(heap)>2*temp_index+1:\n",
    "        if len(heap)>2*temp_index+2:\n",
    "            \n",
    "            if heap[2*temp_index+1]>heap[2*temp_index+2]:\n",
    "                min_val=heap[2*temp_index+2]\n",
    "                min_index=2*temp_index+2\n",
    "            else:\n",
    "                min_val=heap[2*temp_index+1]\n",
    "                min_index=2*temp_index+1\n",
    "            \n",
    "            if heap[temp_index]>min_val:\n",
    "                heap[temp_index],heap[min_index]=heap[min_index],heap[temp_index]\n",
    "                temp_index=min_index\n",
    "            else:\n",
    "                break\n",
    "                \n",
    "            \n",
    "        else:\n",
    "            if heap[temp_index]>heap[2*temp_index+1]:\n",
    "                heap[temp_index],heap[2*temp_index+1]=heap[2*temp_index+1],heap[temp_index]\n",
    "                temp_index=2*temp_index+1\n",
    "            else:\n",
    "                break\n",
    "            \n",
    "    return heap"
   ]
  },
  {
   "cell_type": "code",
   "execution_count": 164,
   "metadata": {
    "collapsed": true
   },
   "outputs": [],
   "source": [
    "def remove_from_middle(heap,index):\n",
    "    heap[index],heap[-1]=heap[-1],heap[index]\n",
    "    heap.pop(-1)\n",
    "    return bubble_down(heap,index)"
   ]
  },
  {
   "cell_type": "code",
   "execution_count": 168,
   "metadata": {
    "collapsed": false
   },
   "outputs": [],
   "source": [
    "def form_heap_dict(heap,f,item):\n",
    "    heapq.heappush(heap,(float(\"inf\"),item))\n",
    "    f.setdefault(item,float(\"inf\"))\n",
    "    \n",
    "def heap_remove(heap,f,vertex):\n",
    "    value=f[vertex]\n",
    "    item=(value,vertex)\n",
    "    index=heap.index(item)\n",
    "    return remove_from_middle(heap,index)\n",
    "    \n",
    "def dijkstra(G,s_vertex):\n",
    "    \n",
    "    f={}\n",
    "    heap=[(0,s_vertex)]\n",
    "    f[s_vertex]=0.0\n",
    "    heapq.heapify(heap)\n",
    "    [form_heap_dict(heap,f,item) for item in G.graph.keys() if item!=s_vertex]\n",
    "    #print(f)\n",
    "    while heap:\n",
    "        min_vertex=heapq.heappop(heap)[1]\n",
    "        #print(min_vertex)\n",
    "        #print(heap)\n",
    "        for vx in G.graph[min_vertex]:\n",
    "            head=vx[0]\n",
    "            l=vx[1]\n",
    "            if (f[head],head) in heap:\n",
    "                heap=heap_remove(heap,f,head)\n",
    "                f[head]=min(f[head],f[min_vertex]+l)\n",
    "                heapq.heappush(heap,(f[head],head))\n",
    "        #print(f)\n",
    "        #print(heap)\n",
    "        #print(\"-----\")\n",
    "        \n",
    "    return f"
   ]
  },
  {
   "cell_type": "code",
   "execution_count": 169,
   "metadata": {
    "collapsed": false
   },
   "outputs": [],
   "source": [
    "###read the text file and create a graph in the form of the dictionary\n",
    "counter=0\n",
    "heap=[]\n",
    "heapq.heapify(heap)\n",
    "graph=my_Graph()\n",
    "with open(\"dijkstraData.txt\") as infile:\n",
    "    for line in infile:\n",
    "        vertices=line.split()\n",
    "        source=vertices[0].strip()\n",
    "        heapq.heappush(heap,(float(\"inf\"),source))\n",
    "        vertices.pop(0)\n",
    "        counter+=1\n",
    "        for i in vertices:\n",
    "            destination,length=i.strip().split(\",\")\n",
    "            graph.add_edge(source,destination,length)\n",
    "        #if counter==5:\n",
    "        #    break"
   ]
  },
  {
   "cell_type": "code",
   "execution_count": 175,
   "metadata": {
    "collapsed": false
   },
   "outputs": [],
   "source": [
    "f=dijkstra(graph,\"1\")\n"
   ]
  },
  {
   "cell_type": "code",
   "execution_count": 176,
   "metadata": {
    "collapsed": false
   },
   "outputs": [
    {
     "name": "stdout",
     "output_type": "stream",
     "text": [
      "2599.0 , 2610.0 , 2947.0 , 2052.0 , 2367.0 , 2399.0 , 2029.0 , 2442.0 , 2505.0 , 3068.0\n"
     ]
    }
   ],
   "source": [
    "print(f[\"7\"],\",\",f[\"37\"],\",\",f[\"59\"],\",\",f[\"82\"],\",\",f[\"99\"],\",\",f[\"115\"],\",\",f[\"133\"],\",\",f[\"165\"],\",\",f[\"188\"],\",\",f[\"197\"])"
   ]
  },
  {
   "cell_type": "code",
   "execution_count": null,
   "metadata": {
    "collapsed": true
   },
   "outputs": [],
   "source": []
  }
 ],
 "metadata": {
  "kernelspec": {
   "display_name": "Python 3",
   "language": "python",
   "name": "python3"
  },
  "language_info": {
   "codemirror_mode": {
    "name": "ipython",
    "version": 3
   },
   "file_extension": ".py",
   "mimetype": "text/x-python",
   "name": "python",
   "nbconvert_exporter": "python",
   "pygments_lexer": "ipython3",
   "version": "3.6.0"
  }
 },
 "nbformat": 4,
 "nbformat_minor": 2
}
