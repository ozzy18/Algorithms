{
 "cells": [
  {
   "cell_type": "code",
   "execution_count": 1,
   "metadata": {
    "collapsed": true
   },
   "outputs": [],
   "source": [
    "import time"
   ]
  },
  {
   "cell_type": "code",
   "execution_count": 2,
   "metadata": {
    "collapsed": false
   },
   "outputs": [],
   "source": [
    "## iterative DFS\n",
    "def DFS(G,i,explored,f,leaders):\n",
    "    ###initialization\n",
    "    stack=[]\n",
    "    stack.append(i)\n",
    "    s=i\n",
    "    \n",
    "\n",
    "    \n",
    "    while stack:\n",
    "        \n",
    "        node=stack[-1]\n",
    "        explored[node]=True\n",
    "        \n",
    "        \n",
    "        if (G.get(node,None)==[]) or (G.get(node,None) is None):\n",
    "            f.append(node)\n",
    "            stack.pop()\n",
    "            leaders[s].append(node)\n",
    "                 \n",
    "        else:\n",
    "            next_=G[node][-1]\n",
    "            G[node].pop()\n",
    "            \n",
    "            if  explored.get(next_,False) is False:\n",
    "                \n",
    "                explored[next_]=True\n",
    "                if (G.get(next_,None)==[]) or (G.get(next_,None) is None): \n",
    "                    f.append(next_)\n",
    "                    leaders[s].append(next_)\n",
    "                \n",
    "                else:\n",
    "                    stack.append(next_)                \n",
    "                \n",
    "    \n",
    "    "
   ]
  },
  {
   "cell_type": "code",
   "execution_count": 3,
   "metadata": {
    "collapsed": false
   },
   "outputs": [],
   "source": [
    "def DFS_Loop(G,iter_list):\n",
    "    explored={}\n",
    "    f=[]\n",
    "    leaders={}\n",
    "    for i in iter_list:\n",
    "        if explored.get(i,False) is False:\n",
    "            leaders[i]=[]\n",
    "            DFS(G,i,explored,f,leaders)\n",
    "           \n",
    "    \n",
    "    return f,leaders\n",
    "            \n",
    "       \n"
   ]
  },
  {
   "cell_type": "code",
   "execution_count": 4,
   "metadata": {
    "collapsed": true
   },
   "outputs": [],
   "source": [
    "##Create a dictionary representation of a reverse graph from text file representation of a Graph\n",
    "def make_reverseG(file_name):\n",
    "    G=dict()\n",
    "    with open(file_name) as infile:\n",
    "        for line in infile:\n",
    "            v1,v2=line.split()\n",
    "            if v2 in G:\n",
    "                G[v2].append(v1)\n",
    "\n",
    "            else:\n",
    "                G[v2]=[v1]\n",
    "    return G"
   ]
  },
  {
   "cell_type": "code",
   "execution_count": 5,
   "metadata": {
    "collapsed": true
   },
   "outputs": [],
   "source": [
    "##Create a dictionary representation of a graph from text file representation of a Graph\n",
    "def make_G(file_name):\n",
    "    G=dict()\n",
    "    with open(file_name) as infile:\n",
    "        for line in infile:\n",
    "            v1,v2=line.split()\n",
    "            if v1 in G:\n",
    "                G[v1].append(v2)\n",
    "\n",
    "            else:\n",
    "                G[v1]=[v2]\n",
    "    return G"
   ]
  },
  {
   "cell_type": "code",
   "execution_count": 25,
   "metadata": {
    "collapsed": false
   },
   "outputs": [
    {
     "name": "stdout",
     "output_type": "stream",
     "text": [
      "Execution time:  12296.01001739502  ms\n",
      "875714\n"
     ]
    }
   ],
   "source": [
    "file_name=\"SCC.txt\"\n",
    "start=time.time()\n",
    "reverse_G=make_reverseG(file_name)\n",
    "f,leaders=DFS_Loop(reverse_G,reverse_G.keys())\n",
    "stop=time.time()\n",
    "print(\"Execution time: \",1000*(stop-start),\" ms\")\n",
    "print(len(f))\n",
    "del reverse_G,leaders"
   ]
  },
  {
   "cell_type": "code",
   "execution_count": 26,
   "metadata": {
    "collapsed": false
   },
   "outputs": [
    {
     "name": "stdout",
     "output_type": "stream",
     "text": [
      "Execution time:  12616.063117980957  ms\n",
      "371762\n"
     ]
    }
   ],
   "source": [
    "start=time.time()\n",
    "G=make_G(file_name)\n",
    "f,leaders=DFS_Loop(G,reversed(f))\n",
    "stop=time.time()\n",
    "print(\"Execution time: \",1000*(stop-start),\" ms\")\n",
    "print(len(leaders))\n",
    "del G,f"
   ]
  },
  {
   "cell_type": "code",
   "execution_count": 27,
   "metadata": {
    "collapsed": false
   },
   "outputs": [],
   "source": [
    "nums=[len(x) for x in leaders.values()]"
   ]
  },
  {
   "cell_type": "code",
   "execution_count": 28,
   "metadata": {
    "collapsed": true
   },
   "outputs": [],
   "source": [
    "nums.sort(reverse=True)"
   ]
  },
  {
   "cell_type": "code",
   "execution_count": 29,
   "metadata": {
    "collapsed": false
   },
   "outputs": [
    {
     "name": "stdout",
     "output_type": "stream",
     "text": [
      "[434821, 968, 459, 313, 211]\n"
     ]
    }
   ],
   "source": [
    "print(nums[0:5])"
   ]
  },
  {
   "cell_type": "code",
   "execution_count": null,
   "metadata": {
    "collapsed": true
   },
   "outputs": [],
   "source": []
  }
 ],
 "metadata": {
  "kernelspec": {
   "display_name": "Python 3",
   "language": "python",
   "name": "python3"
  },
  "language_info": {
   "codemirror_mode": {
    "name": "ipython",
    "version": 3
   },
   "file_extension": ".py",
   "mimetype": "text/x-python",
   "name": "python",
   "nbconvert_exporter": "python",
   "pygments_lexer": "ipython3",
   "version": "3.6.0"
  }
 },
 "nbformat": 4,
 "nbformat_minor": 2
}
